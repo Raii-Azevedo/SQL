{
 "cells": [
  {
   "cell_type": "markdown",
   "metadata": {},
   "source": [
    "MONTANDO CHECKLISTA DE ANÁLISE\n",
    "\n",
    "— Verificação de uso de recursos computacionais: memória, disco, rede e cpu;\n",
    "\n",
    "— Verificação de erros ou mudanças no BD através do alert.log;\n",
    "\n",
    "— Verificação de coleta de estatísticas;"
   ]
  },
  {
   "cell_type": "code",
   "execution_count": null,
   "metadata": {
    "vscode": {
     "languageId": "plaintext"
    }
   },
   "outputs": [],
   "source": [
    "SELECT t.owner, t.table_name, t.last_analyzed FROM\n",
    "all_all_tables t WHERE t.owner like ('SOE');"
   ]
  },
  {
   "cell_type": "markdown",
   "metadata": {},
   "source": [
    "— Verificação de parâmetros da instância;\n",
    "\n",
    "— Verificação da SGA e PGA;"
   ]
  },
  {
   "cell_type": "markdown",
   "metadata": {},
   "source": []
  },
  {
   "cell_type": "markdown",
   "metadata": {},
   "source": []
  }
 ],
 "metadata": {
  "language_info": {
   "name": "python"
  }
 },
 "nbformat": 4,
 "nbformat_minor": 2
}
