{
 "cells": [
  {
   "cell_type": "markdown",
   "metadata": {},
   "source": [
    "A arquitetura do Oracle Data Guard é um conjunto de tecnologias e recursos que permitem a criação e o gerenciamento de ambientes de replicação de banco de dados para garantir alta disponibilidade, proteção de dados e recuperação de desastres em ambientes Oracle Database.\n",
    "\n",
    "Aqui estão alguns dos conceitos principais da arquitetura do Oracle Data Guard:\n",
    "\n",
    "    - PRIMARY DATABASE: É o banco de dados principal que contém os dados originais e atende às operações de leitura e gravação. Todas as alterações nos dados ocorrem neste banco de dados.\n",
    "\n",
    "    - STANDBY DATABASE: É uma cópia exata ou parcial do banco de dados principal. As alterações feitas no banco de dados primário são replicadas e aplicadas no banco de dados secundário, mantendo-o atualizado.\n",
    "\n",
    "    - MODOS DE PROTEÇÃO:\n",
    "        Maximum Performance: As alterações são enviadas para o banco de dados secundário assim que possível, sem aguardar a confirmação de que foram gravadas no disco.\n",
    "        Maximum Availability: As alterações são enviadas para o banco de dados secundário após serem gravadas no disco e confirmadas.\n",
    "        Maximum Protection: As alterações são enviadas para o banco de dados secundário e confirmadas antes de serem confirmadas no banco de dados primário, garantindo uma redundância máxima, mas com um possível impacto na latência.\n",
    "\n",
    "    - REDO DE TRANSPORT SERVICES: São os mecanismos usados para transportar os logs de redo (registros de alterações) do banco de dados primário para o secundário. Eles podem ser configurados para usar diferentes métodos de transporte, como conexões TCP/IP, protocolos de arquivo, etc.\n",
    "\n",
    "    - APPLY SERVICES: São os processos responsáveis por aplicar as alterações recebidas do banco de dados primário no banco de dados secundário. Existem diferentes modos de aplicação, como aplicação em tempo real, aplicação em standby, etc.\n",
    "\n",
    "    - FAILOVER E SWITCHOVER: São procedimentos que permitem alterar a função dos bancos de dados primário e secundário. O failover é usado em caso de falha do banco de dados primário, enquanto o switchover é usado para fins de manutenção planejada ou migração.\n",
    "\n",
    "    - DATA GUARD BROKER: É uma ferramenta de gerenciamento e monitoramento fornecida pelo Oracle para simplificar o gerenciamento de ambientes do Oracle Data Guard. Ele fornece uma interface gráfica e comandos de linha de controle (CLI) para gerenciar a configuração, monitorar o desempenho e automatizar tarefas administrativas.\n",
    "\n",
    "Esses são apenas alguns dos conceitos básicos da arquitetura do Oracle Data Guard. É uma tecnologia robusta que oferece muitos recursos para garantir a alta disponibilidade e a proteção dos dados em ambientes Oracle Database.\n",
    "\n"
   ]
  },
  {
   "cell_type": "code",
   "execution_count": null,
   "metadata": {
    "vscode": {
     "languageId": "plaintext"
    }
   },
   "outputs": [],
   "source": []
  },
  {
   "cell_type": "markdown",
   "metadata": {},
   "source": [
    "MEMBROS DE UMA CONFIGURAÇÃO\n",
    "\n",
    "- Instância Far Sync - É um destin que aceita redo do banco primário e então envia esse redo recebifo para outros bancos standby.\n",
    "\n",
    "- Uma instância Far Sync gerencia um control file, recebe o redo do primário nos standby redo logs (SRLs) e arquiva esses stand by redo logs em archived redo logs locais.\n",
    "\n",
    "- Uma Instância Far Sync não possui data files de usuários, não pode ser abert, não aplica o redo recebido e nem pode ser convertido para a role primária ou qualquer tipo de standby.\n",
    "\n",
    "- Instância Far Sync fazem parte do feature do Oracle Active Data Guard Far Sync e requerem licença da option Oracle Active Data Guard para serem utilizadas"
   ]
  },
  {
   "cell_type": "markdown",
   "metadata": {},
   "source": []
  }
 ],
 "metadata": {
  "language_info": {
   "name": "python"
  }
 },
 "nbformat": 4,
 "nbformat_minor": 2
}
