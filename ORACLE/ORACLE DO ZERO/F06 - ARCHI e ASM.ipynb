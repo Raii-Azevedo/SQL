{
 "cells": [
  {
   "cell_type": "markdown",
   "metadata": {},
   "source": [
    "ARCHIVE\n",
    "\n",
    "Como os REDOLOG funcionade maneira circular, os dados são sobrescritos em determinado momento. Para evitar perda de dados, é possível colocar o banco em modo ARCHIVE, onde um arquivo pe gerado com a cópia dos REDO a cada mudança de arquivo.\n",
    "\n",
    "O arquivo de ARCHIVE não é obrigatório no oracle. Porém é amplamente utilizado em ambiente de produção.\n",
    "\n",
    "\n",
    "COMO OS ARQUIVOS FÍSICOS SÃO ARMAZENADOS\n",
    "\n",
    "FYLE SYSTEM: Sistema Operacional: É a opção padrão.\n",
    "- O Oracle requisira a gravação de arquivos ao SO, que gerencia atravpes de um GERENCIADOR DE VOLUMES e grava em seu sistema de arquivos.\n",
    "\n",
    "\n",
    "ASM - Automatic Storage Management\n",
    "\n",
    "É onde o oracle controla o acesso ao arquivos, sem passar pelo sistema operacional. \n",
    "O SO não conhece os volumes que o Oracle gerencia, e nem sabe que existem arquivos no espaço em dosco destinado ao oracle."
   ]
  }
 ],
 "metadata": {
  "language_info": {
   "name": "python"
  }
 },
 "nbformat": 4,
 "nbformat_minor": 2
}
