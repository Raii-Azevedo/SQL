{
 "cells": [
  {
   "cell_type": "markdown",
   "metadata": {},
   "source": [
    "ARQUIVOS DE PARÂMETRO\n",
    "\n",
    "São arquivos lidos no momento que um banco de dados sobe, ou seja, no momento que ele fica operacional. Como parâmetos, são por exemplo a quantidade de memória, parâmetos de sessão, etc.\n",
    "\n",
    "- SPFILE: Instância do banco de dados lê esse arquivo no momento da inicialização. Esse arquivo é BINÁRIO e deixa os parâmetros persistentes.\n",
    "- PFILE: É um arquivo idêntico ao SPFILE, porém é um arquivo de TEXTO e pode ser editado manualmente pelo usuário."
   ]
  },
  {
   "cell_type": "markdown",
   "metadata": {},
   "source": [
    "SITUAÇÕES PRÁTICAS\n",
    "\n",
    "Necessito realizar uma manutenção onde necessito que o banco suba determinado modo, porém não utilizarei tão cedo o banco da mesma forma.\n",
    "\n",
    "Em vez de tornar o parâmetro PERMANENTE no SPLFILE, posso apenas editar o PFILE e mandar o banco inicializar lendo o PFILE, e na próxima vez que o banco iniciar, o banco lerá o SPFILE qu enão terá armazenado o parâmeteo.\n",
    "\n",
    "2 TIPOS DE PARÂMETROS\n",
    "\n",
    "    - ESTÁTICOS: Necessita reinicialização.\n",
    "    - DINÂMICOS: Maioria dos parâmetros."
   ]
  },
  {
   "cell_type": "markdown",
   "metadata": {},
   "source": [
    "ESCOPOS\n",
    "\n",
    "1. Na memória\n",
    "2. Na reinicialização\n",
    "3. No mesmo momento\n",
    "\n",
    "EM MEMÓRIA - É alterado automaticamente, para isso necessita ser dinâmico. SCOPE = MEMORY\n",
    "\n",
    "SPFILE - Alteração válida somente após a reinicialização e não vai estar em memória. Por mais que seja dinâmico, não desejo fazer nomesmo momento. SCOPE = SPFILE\n",
    "\n",
    "No mesmo momento e persistente: Devo trabalhar com um parâmetro dinâmico e deixar sem escopo, pois ele tratará como padrão. SCOPE = BOTH."
   ]
  },
  {
   "cell_type": "markdown",
   "metadata": {},
   "source": [
    "TESTANDO PARÂMETROS\n",
    "\n",
    "O comando ALTER SESSION SET reconfigura um parâmetro apenas para a sessão corrente, ou seja, é ideal para se testar algo como por exemplo, performance. Ao desligar a sessão a alteração é desfeita e não está disponível para nenhuma outra sessão."
   ]
  },
  {
   "cell_type": "code",
   "execution_count": null,
   "metadata": {
    "vscode": {
     "languageId": "plaintext"
    }
   },
   "outputs": [],
   "source": [
    "# VERIFICANDO PARÂMETROS\n",
    "\n",
    "SELECT * FROM v$parameter\n"
   ]
  }
 ],
 "metadata": {
  "language_info": {
   "name": "python"
  }
 },
 "nbformat": 4,
 "nbformat_minor": 2
}
