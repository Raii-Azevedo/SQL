{
 "cells": [
  {
   "cell_type": "markdown",
   "metadata": {},
   "source": [
    "---- ASSUNTOS GERAIS ----\n",
    "\n",
    "O QUE É PRECISO PARA SER UM DBA?\n",
    "- Servidor\n",
    "- Sistema Operacional\n",
    "- Conexões de Rede\n",
    "- Armazenamento\n",
    "\n",
    "\n",
    "ATRIBUIÇÕES DE UM DBA Jr\n",
    "- Permissões\n",
    "- Monitoramento\n",
    "- Criação de Usuários\n",
    "- Gerenciamento de Backups (Acompanhamento)\n",
    "- Consulta no Dicionário de Dados\n",
    "- Algumas Instalações\n",
    "\n",
    "\n",
    "COMO DEVE SER UM BANCO DE DADOS?\n",
    "- Informações permanentes\n",
    "- Informações acessíveis rapidamente\n",
    "- Informações Seguras\n",
    "- Informações disponíveis imediatamente\n",
    "  \n",
    "\n",
    "HISTÓRICO ORACLE\n",
    "- 9i -\n",
    "- 10 E 11g - Formato GRID\n",
    "- 12c - Formato Cloud\n",
    "\n",
    "\n",
    "ORACLE x SQL SERVER\n",
    "-Quando se trata de BI o SQL Server é imbatível e mais fácil de manipulação.\n",
    "\n",
    "- Oracle permite instalação do produto para estudos, mas em produção o suporte é extremamente caro.\n",
    "- SQL Server é limitado gratuitamente, mas o suporte é barato e acessível"
   ]
  },
  {
   "cell_type": "markdown",
   "metadata": {},
   "source": [
    "O QUE UM DBA NECESSITA PARA ADMINISTRAR?\n",
    "\n",
    "Linguagem SQL, aplicada no SQL Plus ou em clientes como PSQL Developer, SQL Develiper, Heidi SQL e demais ferramentas de BD.\n",
    "\n",
    "EM ou ENterprise Manager - Ferramenta WEB Gráfica da Oracle, muito embora seja recomendado a administração pelo SQL Plis, pois em vários ambientes o Oracle é instalado em ambientes UNIX."
   ]
  },
  {
   "cell_type": "markdown",
   "metadata": {},
   "source": []
  }
 ],
 "metadata": {
  "language_info": {
   "name": "python"
  }
 },
 "nbformat": 4,
 "nbformat_minor": 2
}
