{
 "cells": [
  {
   "cell_type": "markdown",
   "metadata": {},
   "source": [
    "TABLESPACE\n",
    "\n",
    "Quando criar uma tabela em oracle. É necessária a definição de uma TABLESPACE. É um espaço lógico.\n",
    "Se não especificar a TABLESPACE ela irá para uma padrão. Ex: System.\n",
    "\n",
    "# TABELA A E TABLESPACE MKT 1GB\n",
    "\n",
    "Ou seja a tabela A vai ser armazenada na TABLESPACE mkt que teme extensão 1GB.\n"
   ]
  }
 ],
 "metadata": {
  "language_info": {
   "name": "python"
  }
 },
 "nbformat": 4,
 "nbformat_minor": 2
}
