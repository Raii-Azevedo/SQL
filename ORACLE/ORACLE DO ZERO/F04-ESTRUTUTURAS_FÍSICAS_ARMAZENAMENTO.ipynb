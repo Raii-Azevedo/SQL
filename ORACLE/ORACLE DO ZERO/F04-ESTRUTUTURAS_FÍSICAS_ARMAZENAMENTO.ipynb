{
 "cells": [
  {
   "cell_type": "markdown",
   "metadata": {},
   "source": [
    "ESTRUTURA FÍSICA\n",
    "\n",
    "É tudo que é possível visualizar no HD."
   ]
  },
  {
   "cell_type": "code",
   "execution_count": null,
   "metadata": {
    "vscode": {
     "languageId": "plaintext"
    }
   },
   "outputs": [],
   "source": [
    "# LINUX\n",
    "ls\n",
    "\n",
    "# WINDOWS\n",
    "dir"
   ]
  },
  {
   "cell_type": "markdown",
   "metadata": {},
   "source": [
    "UNIDADES FÍSICAS\n",
    "\n",
    "Datafiles:Estruturas físicas de armazenamento do Banco de Dados Oracle. Os Datafiles compõe os Tablespaces e a soma dos seus tamanhps é o total de tamanhos da tablespace.\n",
    "\n",
    "  - Tablespace de 1GB\n",
    "\n",
    "333MB  |  333MB  | 333MB\n",
    "\n",
    "As unidades físicas sçao transparente, principalmente para os usuários, também trabalha com estruturas lógicas. O DBA na maioria dos casos, também trabalha com estruturas lógicas. Por isso é tão importante conhecer a estrutura, arquitetura e os links entre as estruturas lógcas e físicas do Oracle.\n",
    "\n",
    "\n",
    " - Os Datafiles são direcionados a diferentes funções. de acordo com a função do tablespace.\n",
    " - Exitem 2 tipos de tablespaces:\n",
    "\n",
    "      - PERMANENTE: Dicionários de dados(metadata), dados de aplicações;\n",
    "      - TEMPORÀRIA: Dados temporários.\n",
    "\n",
    "Por isso, datafiles são classificados em permanentes ou temporários.\n",
    "\n",
    "\n",
    "CONTROLFILES\n",
    "\n",
    "São responsáveis pelo controle de funcionamento da base de dados da oracle. Toda a base de dados deve ter pelo menos 1 controlfile. Podendo chegar ao máximo de 8.\n",
    "Caso exista mais de 1, servem como redundância, pois as informações são as mesmas.\n",
    "\n",
    "- Fornecem informações para START UP ou para SHUT DOWN. Informando se os processos forma executados de maneira correta e síncrona. Além de informar a localização dos datafiles.\n"
   ]
  },
  {
   "cell_type": "markdown",
   "metadata": {},
   "source": [
    "REDO LOG FILES\n",
    "\n",
    "Armazenam transações executadas e confirmadas com COMMIT. Sçao logs de transações. O objetivo é permitir a maior recuperações dos dados comitados. Quando executamos um COMMIT, os dados permanecem em memória, pos pe acesso a ela é mais rápido que o acesso em disco.\n",
    "\n",
    "Sendo assim, os dados comitados também são gravados no REDO LOGS, afim de recuperalão em caso de perda antes da sincronização com DATAFILES."
   ]
  },
  {
   "cell_type": "markdown",
   "metadata": {},
   "source": []
  }
 ],
 "metadata": {
  "language_info": {
   "name": "python"
  }
 },
 "nbformat": 4,
 "nbformat_minor": 2
}
