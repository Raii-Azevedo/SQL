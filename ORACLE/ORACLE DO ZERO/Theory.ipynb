{
 "cells": [
  {
   "cell_type": "code",
   "execution_count": null,
   "metadata": {},
   "outputs": [],
   "source": [
    "O QUE É PRECISO PARA SER UM DBA?\n",
    "- Servidor\n",
    "- Sistema Operacional\n",
    "- Conexões de Rede\n",
    "- Armazenamento\n",
    "\n",
    "ATRIBUIÇÕES DE UM DBA Jr\n",
    "- Permissões\n",
    "- Monitoramento\n",
    "- Criação de Usuários\n",
    "- Gerenciamento de Backups (Acompanhamento)\n",
    "- Consulta no Dicionário de Dados\n",
    "- Algumas Instalações"
   ]
  }
 ],
 "metadata": {
  "language_info": {
   "name": "python"
  }
 },
 "nbformat": 4,
 "nbformat_minor": 2
}
