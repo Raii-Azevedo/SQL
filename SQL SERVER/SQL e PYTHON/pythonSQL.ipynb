{
 "cells": [
  {
   "cell_type": "markdown",
   "metadata": {},
   "source": [
    "PYODBC é um módulo Python que permite conectar-se a bancos de dados relacionais usando o ODBC (Open Database Connectivity), uma API padrão para acessar sistemas de gerenciamento de banco de dados (DBMS). Com o pyodbc, você pode facilmente interagir com bancos de dados como SQL Server, MySQL, PostgreSQL, Oracle e outros, desde que haja um driver ODBC disponível para o seu sistema operacional e para o banco de dados específico que você deseja acessar.\n",
    "\n",
    "Com o pyodbc, você pode executar consultas SQL, recuperar resultados de consultas, inserir dados em tabelas e realizar muitas outras operações de banco de dados diretamente de dentro do seu código Python.\n",
    "\n",
    "Aqui está um exemplo básico de como você pode usar pyodbc para se conectar a um banco de dados SQL Server:\n",
    "\n",
    "No terminal:\n",
    "\n",
    "pip install pyodbc"
   ]
  },
  {
   "cell_type": "code",
   "execution_count": null,
   "metadata": {},
   "outputs": [],
   "source": [
    "import pyodbc\n",
    "\n",
    "# Conexão com o banco de dados\n",
    "conn = pyodbc.connect('DRIVER={SQL Server};SERVER=nome_do_servidor;DATABASE=nome_do_banco_de_dados;UID=nome_de_usuário;PWD=senha')\n",
    "\n",
    "# Criação de um cursor para executar comandos SQL\n",
    "cursor = conn.cursor()\n",
    "\n",
    "# Execução de uma consulta SQL\n",
    "cursor.execute(\"SELECT * FROM tabela\")\n",
    "\n",
    "# Recuperação dos resultados da consulta\n",
    "for row in cursor:\n",
    "    print(row)\n",
    "\n",
    "# Fechamento do cursor e da conexão\n",
    "cursor.close()\n",
    "conn.close()\n"
   ]
  },
  {
   "cell_type": "markdown",
   "metadata": {},
   "source": [
    "São 3 parâmetros para o python compreender a conexão de python com o SQL SERVER\n",
    "\n",
    "Driver -> O SQL Server configurado\n",
    "\n",
    "Server -> São os dados de servidor de conexão\n",
    "\n",
    "Nome do servidor: No terminal: hostname\n",
    "\n",
    "Database -> O nome do Banco de dados criado, nesse caso pythonSQL"
   ]
  },
  {
   "cell_type": "code",
   "execution_count": null,
   "metadata": {},
   "outputs": [],
   "source": [
    "import pyodbc\n",
    "\n",
    "dados_conexao = (\n",
    "    \"Driver=;{SQL Server}\"\n",
    "    \"Server=raissa-Inspiron-15-3567;\"\n",
    "    \"Database=pythonSQL;\"\n",
    ")\n",
    "\n",
    "conexao = pyodbc.connect(dados_conexao)\n",
    "print('Conexão bem sucedida')"
   ]
  },
  {
   "cell_type": "markdown",
   "metadata": {},
   "source": [
    "COMANDOS SQL DENTRO DO JUPYTER"
   ]
  },
  {
   "cell_type": "code",
   "execution_count": null,
   "metadata": {},
   "outputs": [],
   "source": [
    "# Criação de um cursor para executar comandos SQL\n",
    "cursor = conexao.cursor()\n",
    "\n",
    "comando = '''INSERT INTO Vendas (id_venda, data_venda, cliente, produto, preco, quantidade) VALUES \n",
    "(1, '22/02/2024', 'Ana', 'Celular', 2000, 1)''' # Editar essas informações para adicionar novos dados no BD\n",
    "\n",
    "cursor.execute(comando)\n",
    "\n",
    "cursor.commit() # Comando que efetiva uma transação dentro do Banco de Dados (Insert e Delete)"
   ]
  },
  {
   "cell_type": "markdown",
   "metadata": {},
   "source": [
    "TORNANDO O CADASTRO DE DADOS AUTOMÁTICO POR MEIO DE VARIÁVEIS"
   ]
  },
  {
   "cell_type": "code",
   "execution_count": null,
   "metadata": {},
   "outputs": [],
   "source": [
    "# Antes dos dados de comando, criar as variáveis de inserção de dados\n",
    "\n",
    "id = 4\n",
    "data = \"17/06/2022\"\n",
    "cliente = \"Diego\"\n",
    "produto = \"Tablet\"\n",
    "preco = 1200\n",
    "quantidade = 1\n",
    "\n",
    "# Adicionando valores externos dentro da variável 'comando' \n",
    "# É feito utilizando o format\n",
    "\n",
    "comando = f'''INSERT INTO Vendas (id_venda, data_venda, cliente, produto, preco, quantidade) VALUES \n",
    "({id}, '{data}', '{cliente}', '{produto}', {preco}, {quantidade})''' \n",
    "\n",
    "cursor.execute(comando)\n",
    "\n",
    "cursor.commit()"
   ]
  },
  {
   "cell_type": "markdown",
   "metadata": {},
   "source": [
    "IMPORTANDO BIBLIOTECAS PYTHON E CRIANDO A CONEXÃO COM O BANCO DE DADOS"
   ]
  },
  {
   "cell_type": "code",
   "execution_count": null,
   "metadata": {},
   "outputs": [],
   "source": [
    "import pyodbc\n",
    "import pandas as pd\n",
    "import mathplotlib\n",
    "\n",
    "dados_conexao = (\n",
    "    \"Driver=;{SQL Server}\"\n",
    "    \"Server=raissa-Inspiron-15-3567;\"\n",
    "    \"Database=ContosoReatailDW;\"\n",
    ")\n",
    "\n",
    "conexao = pyodbc.connect(dados_conexao)\n",
    "print('Conexão bem sucedida')"
   ]
  },
  {
   "cell_type": "markdown",
   "metadata": {},
   "source": [
    "LEITURA DA TABELA DE DADOS SQL VIA PYTHON"
   ]
  },
  {
   "cell_type": "code",
   "execution_count": null,
   "metadata": {},
   "outputs": [],
   "source": [
    "comando_sql = \"SELECT ColorName, UnitPrice FROM DimProduct\"\n",
    "\n",
    "# Utilizando o Pandas para executar o comando SQL\n",
    "dados = pd.read_sql(comando_sql, conexao)"
   ]
  },
  {
   "cell_type": "markdown",
   "metadata": {},
   "source": [
    "AGRUPAMENTOS BÁSICOS NO PYTHON UTILIZANDO GROUP BY E PLOT DE GRÁFICO COM BARRAS"
   ]
  },
  {
   "cell_type": "code",
   "execution_count": null,
   "metadata": {},
   "outputs": [],
   "source": [
    "# Cria uma tabela com a contagem do grupo de cores\n",
    "dados.groupby('ColorName').count()\n"
   ]
  },
  {
   "cell_type": "code",
   "execution_count": null,
   "metadata": {},
   "outputs": [],
   "source": [
    "# Criando um gráfico a partir do agrupamento \n",
    "# -> Primeiramente criando uma variável\n",
    "total_produtos_por_cor = dados.groupby('ColorName').count()"
   ]
  },
  {
   "cell_type": "code",
   "execution_count": null,
   "metadata": {},
   "outputs": [],
   "source": [
    "# Cria o gráfico do tipo barras a partir da variável de contagem de cores\n",
    "total_produtos_por_cor.plot(kind='bar')"
   ]
  }
 ],
 "metadata": {
  "kernelspec": {
   "display_name": "Python 3",
   "language": "python",
   "name": "python3"
  },
  "language_info": {
   "codemirror_mode": {
    "name": "ipython",
    "version": 3
   },
   "file_extension": ".py",
   "mimetype": "text/x-python",
   "name": "python",
   "nbconvert_exporter": "python",
   "pygments_lexer": "ipython3",
   "version": "3.10.12"
  }
 },
 "nbformat": 4,
 "nbformat_minor": 2
}
