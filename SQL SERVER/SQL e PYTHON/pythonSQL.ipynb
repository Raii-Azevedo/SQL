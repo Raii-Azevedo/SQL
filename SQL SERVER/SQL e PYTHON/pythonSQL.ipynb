{
 "cells": [
  {
   "cell_type": "markdown",
   "metadata": {},
   "source": [
    "PYODBC é um módulo Python que permite conectar-se a bancos de dados relacionais usando o ODBC (Open Database Connectivity), uma API padrão para acessar sistemas de gerenciamento de banco de dados (DBMS). Com o pyodbc, você pode facilmente interagir com bancos de dados como SQL Server, MySQL, PostgreSQL, Oracle e outros, desde que haja um driver ODBC disponível para o seu sistema operacional e para o banco de dados específico que você deseja acessar.\n",
    "\n",
    "Com o pyodbc, você pode executar consultas SQL, recuperar resultados de consultas, inserir dados em tabelas e realizar muitas outras operações de banco de dados diretamente de dentro do seu código Python.\n",
    "\n",
    "Aqui está um exemplo básico de como você pode usar pyodbc para se conectar a um banco de dados SQL Server:\n",
    "\n",
    "No terminal:\n",
    "\n",
    "pip install pyodbc"
   ]
  },
  {
   "cell_type": "code",
   "execution_count": null,
   "metadata": {},
   "outputs": [],
   "source": [
    "import pyodbc\n",
    "\n",
    "# Conexão com o banco de dados\n",
    "conn = pyodbc.connect('DRIVER={SQL Server};SERVER=nome_do_servidor;DATABASE=nome_do_banco_de_dados;UID=nome_de_usuário;PWD=senha')\n",
    "\n",
    "# Criação de um cursor para executar comandos SQL\n",
    "cursor = conn.cursor()\n",
    "\n",
    "# Execução de uma consulta SQL\n",
    "cursor.execute(\"SELECT * FROM tabela\")\n",
    "\n",
    "# Recuperação dos resultados da consulta\n",
    "for row in cursor:\n",
    "    print(row)\n",
    "\n",
    "# Fechamento do cursor e da conexão\n",
    "cursor.close()\n",
    "conn.close()\n"
   ]
  },
  {
   "cell_type": "markdown",
   "metadata": {},
   "source": [
    "São 3 parâmetros para o python compreender a conexão de python com o SQL SERVER\n",
    "\n",
    "Driver -> O SQL Server configurado\n",
    "\n",
    "Server -> São os dados de servidor de conexão\n",
    "\n",
    "Nome do servidor: No terminal: hostname\n",
    "\n",
    "Database -> O nome do Banco de dados criado, nesse caso pythonSQL"
   ]
  },
  {
   "cell_type": "code",
   "execution_count": null,
   "metadata": {},
   "outputs": [],
   "source": [
    "import pyodbc\n",
    "\n",
    "dados_conexao = (\n",
    "    \"Driver=;{SQL Server}\"\n",
    "    \"Server=raissa-Inspiron-15-3567;\"\n",
    "    \"Database=pythonSQL;\"\n",
    ")\n",
    "\n",
    "conexao = pyodbc.connect(dados_conexao)\n",
    "print('Conexão bem sucedida')"
   ]
  },
  {
   "cell_type": "markdown",
   "metadata": {},
   "source": []
  }
 ],
 "metadata": {
  "kernelspec": {
   "display_name": "Python 3",
   "language": "python",
   "name": "python3"
  },
  "language_info": {
   "codemirror_mode": {
    "name": "ipython",
    "version": 3
   },
   "file_extension": ".py",
   "mimetype": "text/x-python",
   "name": "python",
   "nbconvert_exporter": "python",
   "pygments_lexer": "ipython3",
   "version": "3.10.12"
  }
 },
 "nbformat": 4,
 "nbformat_minor": 2
}
