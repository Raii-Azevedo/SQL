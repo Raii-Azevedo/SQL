{
 "cells": [
  {
   "cell_type": "markdown",
   "metadata": {},
   "source": [
    "PROJETO INTEGRAÇÃO SQL E POWER BI\n",
    "Database: \"AdventureWorksDW2014\""
   ]
  },
  {
   "cell_type": "markdown",
   "metadata": {},
   "source": [
    "DEFININDO KPIs PARA PROJETO INTEGRAÇÃO SQL E POWER BI\n",
    "\n",
    "ABA GERAL:\n",
    "1. Receita Total\n",
    "2. Quantidade Vendida\n",
    "3. Total de Categorias de Produtos\n",
    "4. Receita e Lucro Total por Mês\n",
    "5. Margens de Lucro\n",
    "6. Quantidade vendida por mês\n",
    "7. Lucro por País\n",
    "\n",
    "ABA CLIENTES:\n",
    "1. Vendas por País\n",
    "2. Clientes por País\n",
    "3. Vendas por Gênero\n",
    "4. Vendas por Categoria\n"
   ]
  },
  {
   "cell_type": "markdown",
   "metadata": {},
   "source": [
    "DEFININDO TABELAS E COLUNAS A SEREM UTILIZADAS"
   ]
  },
  {
   "cell_type": "code",
   "execution_count": null,
   "metadata": {},
   "outputs": [],
   "source": [
    "SELECT * FROM FactInternetSales\n",
    "SELECT * FROM DimProductSubCategory\n",
    "SELECT * FROM DimSalesTerritory\n",
    "SELECT * FROM DimProduct"
   ]
  },
  {
   "cell_type": "markdown",
   "metadata": {},
   "source": [
    "FROM FactInternetSales\n",
    "\n",
    "Dados necessários:\n",
    "-  ProductKey (Para criar os relacionamentos)\n",
    "-  OrderDate (Data do Pedido)\n",
    "-  SalesAmount (Informações de Receita)\n",
    "-  TotalProductCost (Para cálculos de Lucro)\n",
    "-  OrderQuantity (Quantodade de Produtos)\n",
    "-  CustumerKey (Para relacionamentos para dados dos Clientes)"
   ]
  },
  {
   "cell_type": "markdown",
   "metadata": {},
   "source": [
    "FROM DimCustumer\n",
    "\n",
    "Dados necessários:\n",
    "- CustumerKey (Para relacionamento)\n",
    "- First | LastName\n",
    "- GeographyKey (Gráficos de Localização)"
   ]
  },
  {
   "cell_type": "markdown",
   "metadata": {},
   "source": [
    "COLUNAS NECESSÁRIAS PARA O PROJETO\n",
    "\n",
    "- SalesOrderNumber\n",
    "- OrderDate\n",
    "- EnglishNameCategoryName\n",
    "- CustumerKey\n",
    "- FirstName + ' ' + LastName\n",
    "- Gender\n",
    "- EnglishCountryRegionName\n",
    "- OrderQuantity\n",
    "- SalesAmount\n",
    "- TotalProductCost\n",
    "- SalesAmount"
   ]
  },
  {
   "cell_type": "markdown",
   "metadata": {},
   "source": [
    "CRIANDO VIEWS RESULTADOS ADW"
   ]
  },
  {
   "cell_type": "code",
   "execution_count": null,
   "metadata": {},
   "outputs": [],
   "source": [
    "# Aqui ficam as colunas mapeadas para a extração de dados (SQL SERVER)\n",
    "CREATE OR ALTER VIEW RESULTADOS_ADW AS \n",
    "SELECT\n",
    "\tfis.SalesOrderNumber AS 'Nº PEDIDO',\n",
    "\tfis.OrderDate AS 'DATA PEDIDO',\n",
    "\tdpc.EnglishProductCategoryName AS 'CATEGORIA PRODUTO',\n",
    "\tfis.CustomerKey AS 'ID CLIENTE',\n",
    "\tdc.FirstName + ' ' + dc.LastName AS 'NOME CLIENTE',\n",
    "\tREPLACE(REPLACE(dc.Gender, 'M', 'Masculino'),'F', 'Feminino') AS 'GÊNERO',\n",
    "\tdg.EnglishCountryRegionName AS 'PAÍS',\n",
    "\tfis.OrderQuantity AS 'QTD. VENDIDA',\n",
    "\tfis.SalesAmount AS 'RECEITA VENDA',\n",
    "\tfis.TotalProductCost AS 'CUSTO PRODUTO',\n",
    "\tfis.TotalProductCost AS 'CUSTO VENDA',\n",
    "\tfis.SalesAmount - fis.TotalProductCost AS 'LUCRO VENDA'\n",
    "\n",
    "FROM FactInternetSales fis\n",
    "INNER JOIN DimProduct dp ON fis.ProductKey = dp.ProductKey\n",
    "\tINNER JOIN DimProductSubcategory dps ON dp.ProductSubcategoryKey = dps.ProductSubcategoryKey\n",
    "\t\tINNER JOIN DimProductCategory dpc ON dps.ProductCategoryKey = dpc.ProductCategoryKey\n",
    "INNER JOIN DimCustomer dc ON fis.CustomerKey = dc.CustomerKey\n",
    "\tINNER JOIN DimGeography dg ON dc.GeographyKey = dg.GeographyKey"
   ]
  },
  {
   "cell_type": "code",
   "execution_count": null,
   "metadata": {},
   "outputs": [],
   "source": [
    "SELECT * FROM RESULTADOS_ADW"
   ]
  },
  {
   "cell_type": "markdown",
   "metadata": {},
   "source": [
    "CONECTANDO O SQL SERVER AO POWER BI\n",
    "\n",
    "O Power BI por padrão já vem com a opção de integrar com SQL Server.\n",
    "\n",
    "INTEGRANDO:\n",
    "- No PBI clicar em SQL Server:\n",
    "    - Informar o Servidor e Banco de dados:\n",
    "    - Servidor: DESKTOP-TGCIE**\n",
    "    - Database: AdventureWorksDW2014\n",
    "  \n",
    "Conectar"
   ]
  }
 ],
 "metadata": {
  "kernelspec": {
   "display_name": "Python 3",
   "language": "python",
   "name": "python3"
  },
  "language_info": {
   "codemirror_mode": {
    "name": "ipython",
    "version": 3
   },
   "file_extension": ".py",
   "mimetype": "text/x-python",
   "name": "python",
   "nbconvert_exporter": "python",
   "pygments_lexer": "ipython3",
   "version": "3.10.11"
  }
 },
 "nbformat": 4,
 "nbformat_minor": 2
}
